{
 "cells": [
  {
   "cell_type": "code",
   "execution_count": 3,
   "metadata": {},
   "outputs": [],
   "source": [
    "# things we need for NLP\n",
    "import nltk\n",
    "from nltk.stem.lancaster import LancasterStemmer\n",
    "stemmer = LancasterStemmer()\n",
    "\n",
    "# things we need for Tensorflow\n",
    "import numpy as np\n",
    "import tflearn\n",
    "import tensorflow as tf\n",
    "import random\n",
    "\n"
   ]
  },
  {
   "cell_type": "code",
   "execution_count": 4,
   "metadata": {},
   "outputs": [],
   "source": [
    "import json\n",
    "with open('intents.json') as json_data:\n",
    "    intents = json.load(json_data)"
   ]
  },
  {
   "cell_type": "code",
   "execution_count": null,
   "metadata": {},
   "outputs": [
    {
     "name": "stdout",
     "output_type": "stream",
     "text": [
      "2038 documents\n",
      "392 classes ['5-things-you-need-to-know-about-insider-trading', '6-common-terms-in-tenancy-agreements-what-they-mean', '6-things-you-need-to-know-about-third-party-funding-in-international-arbitration', 'Divorce-Certificates-Singapore-Get-Copy-FAQs', 'Engagement-Warrants-Retainers-Engaging-Lawyer-Singapore', 'Fees-Hiring-Criminal-Lawyer-Singapore', 'GDPR-Compliance-Singapore-Required', 'Joining-Gang-Illegal-Singapore', 'Sell-Insurance-Policy-Singapore', 'Writ-of-seizure-and-sale-enforce-judgment', 'accident-in-malaysia-what-to-do', 'add-parents-name-childs-birth-certificate-singapore', 'admissibility-of-evidence-in-the-singapore-courts', 'advance-medical-directives-in-singapore', 'all-you-need-to-know-about-corruption-in-singapore', 'all-you-need-to-know-about-the-employment-claims-tribunals', 'annual-general-meetings-what-are-they', 'anti-money-laundering-laws-and-you', 'anti-money-laundering-regulations-and-your-business-what-you-need-to-know', 'apply-halal-certification-singapore-restaurant', 'apply-public-entertainment-licence', 'applying-for-a-grant-of-probate', 'appoint-deputy-loved-one-lacking-mental-capacity-singapore', 'appointing-company-directors-singapore-eligibility-process', 'appointing-guardian-children-will-singapore', 'appointment-deputies-mental-capacity-act', 'arbitration-and-mediation-when-it-can-be-useful-for-business-disputes', 'are-landlords-tenants-and-agents-liable-for-sex-trade-in-condominiumshdb-flats', 'are-sham-marriages-illegal-in-singapore', 'arrestable-or-not-seizable-and-non-seizable-offences-in-singapore', 'as-is-where-is-clause', 'assignment-novation-transfer-contract-singapore', 'bails-bailable-offences-non-bailable-offences-and-sureties-in-singapore', 'beating-the-additional-buyers-stamp-duty', 'beneficiary-dies-before-receiving-inheritance', 'best-summary-general-election-process', 'board-resolutions-in-singapore', 'breach-of-contract-in-singapore', 'business-referral-agreement-guide', 'business-sale-and-purchase-in-singapore', 'businesses-legally-conduct-lucky-draws-singapore', 'buy-house-property-auction-singapore', 'buy-over-business-singapore', 'buyer-stamp-duties-singapore', 'buying-a-car-in-singapore-a-comprehensive-guide', 'buying-a-property-on-trust-for-your-child', 'buying-property-in-singapore-how-to-pay-for-your-property', 'can-a-half-brother-be-considered-a-next-of-kin-when-distributing-the-assets-of-the-deceased', 'can-foreigners-divorce-in-singapore', 'can-i-compel-another-party-to-honour-an-agreement', 'can-i-distribute-life-insurance-proceeds-by-using-a-will', 'can-i-sue-a-foreigner-in-singapore', 'cannot-find-will', 'carousell-seller-uncontactable', 'carpool-legal-singapore', 'caught-speeding-singapore', 'certified-organic-food-singapore-meaning', 'certify-true-copy-singapore', 'change-name-singapore-company', 'change-registered-address-singapore-company', 'change-will', 'charged-traffic-offence-singapore', 'cheapest-divorce-lawyer-singapore', 'checklist-drafting-comprehensive-will-singapore', 'child-custody-lawyer-singapore', 'child-maintenance-singapore', 'choose-business-name-singapore', 'civil-litigation-in-singapore', 'claiming-for-pain-and-suffering-in-personal-injury-cases-how-much-compensation', 'claiming-personal-injury', 'claiming-trial-accused', 'close-singapore-business', 'commercial-lease-disputes-in-singapore', 'common-terms-in-sale-purchase-agreements', 'company-audits-singapore', 'company-memorandum-and-articles-of-association', 'company-resolutions', 'company-struck-off-apply-restoration', 'company-winding-up-payment-validation', 'competition-law-and-your-business-what-you-need-to-know', 'consultancy-agreement-guide', 'contempt-of-court-singapore', 'contested-vs-uncontested-divorce-singapore', 'contract-of-service-contract-for-service-singapore-difference', 'contracting-via-electronic-communications', 'contractor-damage-neighbour-property-liability', 'convert-singapore-sole-proprietorship-to-pte-ltd-company', 'converting-a-joint-tenancy-to-a-tenancy-in-common', 'corporate-lawyers-charge-work', 'corporate-lawyers-for-smes-in-singapore-how-they-can-help-your-business', 'corporate-lawyers-in-singapore', 'criminal-appeals-in-singapore', 'criminal-offences-relating-trade-marks', 'criminal-records-in-singapore', 'cross-border-child-custody-the-hague-convention-on-international-child-abduction', 'crowdfunding-and-crowdlending-in-singapore', 'dangerous-driving-penalties-singapore', 'data-protection-officer', 'dealing-with-defamation-business', 'death-registry-autopsy-funeral-expenses-singapore', 'debt-recovery-lawyers-in-singapore', 'debt-recovery-singapore', 'debt-repayment-scheme-guide-drs-singapore', 'default-judgments-and-summary-judgments-in-singapore', 'defences-trademark-infringement', 'different-classes-of-shares-singapore', 'directors-duties-in-singapore', 'directors-remuneration-singapore', 'discharge-bankruptcy-singapore', 'dispose-documents-personal-data', 'disputes-with-executors-disputes-between-executors-will-singapore', 'dissolution-of-partnerships-in-singapore', 'distributor-agreement-guide', 'dividend-payments-guide-singapore', 'divorce-application-substituted-service-and-dispensed-service', 'divorce-fee-guide-singapore', 'divorce-finance-questions', 'divorce-lawyers-in-singapore', 'divorce-mediation-in-singapore', 'divorce-procedure-part-1-dissolution-of-marriage', 'divorce-procedure-part-2-ancillary-matters', 'divorce-unreasonable-behaviour', 'do-not-call-registry-marketing-singapore-phone-numbers', 'drafting-comprehensive-privacy-policy-singapore-website', 'due-diligence-process-in-mergers-and-acquisitions', 'dui-penalties-drink-driving-singapore', 'e-scooter-accident', 'e-scooter-laws-singapore', 'e-scooter-rider-accident', 'email-newsletters-comply-singapore-law', 'employee-references-obligations', 'employment-agreement-guide', 'employment-disputes-in-singapore', 'employment-law-overview-singapore', 'enforcement-court-judgments-orders-singapore', 'entire-agreement-clause-singapore', 'essential-pdpa-compliance-guide-singapore-businesses', 'estate-planning-in-singapore-tools', 'expat-foreigner-divorce-singapore-legal-issues', 'extraordinary-general-meeting-egm-singapore', 'fatal-traffic-accidents-are-drivers-always-punished', 'fiduciaries-and-fiduciary-law-in-singapore', 'file-medical-negligence-claim-high-court', 'file-proof-of-debt-against-company-liquidation', 'filing-annual-returns-for-your-business', 'filing-for-bankruptcy-singapore', 'first-meeting-business-dispute-lawyer-expectations', 'first-meeting-divorce-lawyer-what-to-bring', 'foreign-companies-setting-up-Singapore', 'foreigners-start-business-Singapore', 'franchising-in-singapore', 'free-legal-clinics', 'freelance-service-agreement-guide', 'get-back-money-company-closing-down-singapore', 'goodbye', 'greeting', 'guide-cpf-nominations-how-to-make-singapore', 'guide-to-hiring-employees-in-singapore', 'hague-convention-international-child-abduction-singapore', 'having-an-illegitimate-child-singapore', 'hdb-flat-divorce', 'hdb-flat-owner-pass-away', 'hdb-power-of-attorney-where-to-get-one', 'hiring-lawyer-draft-contract', 'home-baked-goods-licence-singapore', 'how-can-a-victim-of-counterfeit-contact-lenses-or-other-defective-health-products-seek-redress', 'how-can-i-buy-my-co-owners-share-of-the-property', 'how-do-i-adopt-a-child-in-singapore', 'how-do-i-legally-change-my-name', 'how-do-i-make-a-will', 'how-do-i-recover-a-debt-from-a-personal-loan-made-to-a-friend-in-singapore-does-it-matter-if-i-have-an-iou', 'how-do-i-register-a-trademark-in-singapore', 'how-do-you-apply-for-a-certificate-of-clearance', 'how-does-the-hire-purchase-act-protect-consumers-in-singapore', 'how-to-access-the-bank-account-of-a-deceased-spouse', 'how-to-affirm-an-affidavit-outside-of-singapore', 'how-to-be-a-better-client-to-your-lawyer', 'how-to-donate-your-assets-to-charity', 'how-to-find-a-good-lawyer', 'how-to-get-a-divorce-within-3-years-of-marriage', 'how-to-hire-foreign-workers-in-singapore', 'how-to-prove-adultery', 'how-to-solve-neighbour-disputes', 'if-my-dog-bites-somebody-will-i-be-liable', 'immigration-issues-for-divorcing-expatriates', 'implied-terms', 'in-the-absence-of-a-will-how-is-the-deceased-estate-distributed', 'indemnity-clauses-singapore-commercial-contracts', 'informal-debt-restructuring-and-workout-in-singapore', 'infringing-goods-private-prosecution', 'inheritance-family-provision-act-in-singapore', 'inheritance-tax-estate-duty-singapore', 'insolvency-claw-back-of-assets-from-unfair-preference-and-undervalue-transactions', 'insurance-buy-protect-singapore-business', 'investigated-for-a-criminal-offence', 'is-airbnb-illegal-singapore', 'is-it-illegal-to-commit-suicide-in-singapore-will-i-be-punished-if-my-attempt-at-suicide-fails', 'is-multi-level-marketingmlm-legal', 'issue-shares-singapore-private-company', 'issuing-convertible-bonds-and-loans-for-smes', 'issuing-share-options-and-warrants-in-singapore', 'judicial-management', 'keep-your-loved-ones-secure-and-protected-with-a-legally-binding-will', 'landlord-wont-return-security-deposit', 'lawyer-turning-down-case', 'legal-age-for-sex-in-singapore', 'legal-businesses-ask-nric-singapore', 'legal-compliance-small-company', 'legal-drinking-age-singapore-drinking-related-laws', 'legal-fees-in-civil-litigation', 'legal-tips-starting-online-business-singapore', 'letter-for-trademark-infringement-what-should-i-do', 'letters-of-demand-and-their-usages-in-singapore', 'lie-detector-test-singapore-faqs', 'loan-guarantor-issues', 'love-conquers-all-the-divorce-that-didnt-happen', 'magistrates-complaints-private-summons-and-private-prosecutions-in-singapore', 'maintenance-of-spouse-in-a-divorce', 'make-small-claim-small-claims-tribunal-singapore', 'making-statutory-declaration-singapore', 'mandatory-parenting-programme-divorcing-parents', 'maternity-leave-in-singapore-under-the-employment-act', 'mediation-in-singapore', 'medical-negligence-and-malpractice-in-singapore', 'memorandum-of-understanding-mou-business', 'mental-capacity-assessment-for-lpas-and-wills', 'military-law-and-how-it-affects-every-singaporean-son', 'misbehaving-in-public-5-things-you-need-to-know', 'missing-persons-singapore-family-step-never-found', 'mitigation-plea', 'mortgage-debts-bills-responsible-after-death', 'motor-accidents-roads-making-defending-claims', 'muslim-divorce-in-singapore', 'muslim-inheritance-law-in-singapore', 'non-disclosure-agreement-guide', 'notary-public-fees-singapore', 'occupiers-liability-in-singapore', 'official-secrets-act-singapore', 'online-purchase-scams-what-to-do-if-your-orders-do-not-arrive', 'open-corporate-bank-account-singapore', 'oppression-of-minority-shareholders', 'option-to-purchase-before-exercising', 'organ-donation-in-singapore', 'overseas-divorce', 'partnership-agreement-guide', 'paternity-leave-singapore', 'pdpa-consent-requirements-business-comply', 'personal-data-protection-act-obligations', 'personal-injury-lawyers-in-singapore', 'plea-bargaining-in-singapore-all-you-need-to-know', 'plead-guilty', 'police-investigation-singapore', 'post-litigation-costs', 'power-of-attorney-in-singapore-types-and-usages-2', 'pre-emptive-rights-to-share-transfers', 'preference-shares-for-singapore-companies', 'prenuptial-agreements-singapore', 'preparing-divorce', 'presidential-clemency', 'probation-singapore-eligible-criminal-record', 'process-agents-singapore', 'processing-sending-personal-data', 'product-liability-singapore', 'prosecutorial-discretion-singapore', 'protection-from-harassment-applying-for-a-protection-order', 'proving-desertion-divorce', 'public-assemblies-and-processions-in-singapore-police-permits-and-the-public-order-act', 'punitive-damages-singapore-contract-law', 'raising-funds-for-charity', 'received-without-prejudice-letter', 'redomiciliation-singapore', 'reduce-share-capital-singapore-company', 'refinancing-your-housing-loan', 'reformative-training-singapore-ordered', 'register-for-haj-singapore', 'remove-director-company-singapore', 'renovation-disputes-singapore', 'requirements-for-patent-registration', 'resign-singapore-job-what-happens-after', 'resolve-disputes-with-car-dealers', 'revocation-of-a-lasting-power-of-attorney', 'revoke-patent-singapore', 'right-to-freedom-of-speech-and-expression-singapore', 'running-a-franchise-what-to-look-out-for-as-a-franchisee', 'scheme-of-arrangement', 'security-of-payment-act-claiming-progress-payments-for-construction-work-done', 'selling-property-tenant-in-common', 'separation', 'service-agreement-guide', 'set-up-company-limited-by-guarantee-singapore', 'set-up-register-of-controllers', 'set-up-register-of-nominee-directors', 'set-up-restaurant-singapore', 'set-up-subsidiary-singapore-faqs', 'setting-up-a-discretionary-living-trust-in-singapore', 'sexual-harassment-in-singapore-workplace-sexual-harassment', 'shareholder-agreement-guide', 'shareholders-exit-rights-what-you-need-to-know', 'should-you-sue', 'simultaneous-death', 'singapore-commissioner-for-oaths-service-fees', 'singapore-company-registration', 'singapore-corporate-tax-guide-tax-rate-filing-procedure', 'singapore-influencers-income-tax', 'singapore-president-qualifications', 'singapore-president-role-powers', 'singapore-probate-lawyers-hire-what-can-they-do', 'singapore-representative-office-foreign-company-set-up', 'someone-steals-your-car-singapore', 'steps-take-suspect-spouse-cheating', 'storing-personal-data-cloud', 'striking-off-your-company', 'sue-singapore-business', 'suitable-corporate-secretarial-firm-singapore', 'surrender-passport-police', 'surrogacy-singaporean-couples', 'tenancy-agreement-guide', 'termination-employment', 'thanks', 'the-complete-guide-choosing-a-good-divorce-lawyer', 'the-constitution-of-a-company', 'the-conveyancing-process-in-singapore', 'the-guide-to-child-custody-in-singapore', 'the-kiasu-singaporeans-guide-to-hiring-a-maid', 'the-law-of-negligence-in-singapore', 'the-sale-of-food-in-singapore', 'things-to-consider-in-a-retrenchment-exercise', 'tips-best-virtual-office-singapore-business', 'tort-passing-someone-imitated-branding-business', 'trade-mark-opposition-singapore', 'trade-mark-revocation-singapore', 'trademark-used-without-permission', 'transfer-matrimonial-home-ex-spouse-divorce', 'transfer-of-property-in-singapore', 'transfer-shares-singapore-private-company', 'translate-legal-documents-singapore', 'types-lawyers-singapore', 'types-of-injunctions-in-singapore', 'unfair-contract-terms-act-ucta-in-singapore', 'unfair-sale-practices-cooling-periods-right-cancel-contracts-consumer-protection-fair-trading-act', 'up-front-lawyer-fees', 'use-images-on-website-without-violating-singapore-copyright-laws', 'variation-of-maintenance-order-in-singapore', 'visiting-loved-one-prison-death-row-singapore', 'voluntarily-causing-hurt-in-singapore', 'voting-singapore-general-election', 'what-are-singapores-laws-on-abortion', 'what-are-singapores-laws-on-drug-consumption', 'what-are-the-grounds-for-getting-a-divorce', 'what-are-warranties-conditions-and-innominate-terms', 'what-can-debt-collectors-do-and-not-do-under-the-law', 'what-can-i-do-to-protect-myself-in-self-defence-in-singapore', 'what-can-i-register-as-a-trademark', 'what-happens-car-owner-passes-away', 'what-happens-to-a-singapore-expatriates-assets-when-he-passes-on', 'what-happens-to-gifts-between-spouses-when-a-marriage-breaks-down', 'what-happens-to-my-assets-overseas-when-i-pass-on', 'what-happens-to-property-and-assets-located-overseas-upon-a-divorce-in-singapore', 'what-happens-to-property-when-a-deceaseds-next-of-kin-or-named-personal-representative-is-uncontactable', 'what-happens-to-your-debts-when-you-die', 'what-happens-to-your-hdb-flat-after-an-annulment', 'what-if-a-shop-vendor-sells-a-grossly-overpriced-piece-of-merchandise-to-me', 'what-if-i-have-a-tenancy-dispute-or-complaint-in-singapore', 'what-if-someone-defames-me-over-a-blog-or-other-forms-of-social-networking-media', 'what-is-a-beyond-parental-control-order', 'what-is-a-commissioner-of-oath', 'what-is-a-joint-will-mutual-will-and-mirror-will', 'what-is-a-lasting-power-of-attorney', 'what-is-a-notary-public', 'what-is-a-personal-protection-order', 'what-is-a-trust-trust-law-in-singapore', 'what-is-the-law-on-sexting-in-singapore', 'what-is-the-lemon-law', 'what-is-the-minimum-legal-age-for-working-in-singapore', 'what-is-the-offence-of-outrage-of-modesty-in-singapore', 'what-is-the-offence-of-rioting', 'what-should-a-creditor-do-when-a-company-becomes-insolvent', 'what-should-i-do-with-a-deceased-relatives-will-how-is-a-will-executed', 'what-to-do-if-you-have-a-dispute-with-your-condominiums-management', 'what-to-do-in-a-traffic-accident', 'what-to-expect-marriage-counselling-session-singapore', 'when-do-i-need-to-register-a-business-or-a-blogshop-in-singapore-how-do-i-register-a-business', 'where-you-should-store-your-will', 'who-is-covered-employment-act-singapore', 'why-might-an-unwed-parent-adopt-his-or-her-own-biological-child', 'wills-probate-and-executors-in-singapore', 'winding-up-company-singapore', 'withholding-tax-pay-singapore', 'witness-crime-singapore', 'work-on-public-holiday-singapore', 'writ-of-summons', 'writing-website-terms-and-conditions-singapore']\n",
      "1505 unique stemmed words ['!', '$', '%', '&', \"'s\", '(', ')', '+', ',', '.', '1', '10', '107', '11', '12', '157', '158', '160', '18a', '2', '2.', '2016', '2017', '2021', '21', '216', '22', '3', '3.', '304a', '30:70', '376e', '4', '43', '5', '50,000', '6', '6.', '62', '66', '7', '7.', '76', '8', '9', ':', '[', ']', 'a', 'abduc', 'abet', 'abl', 'abort', 'about', 'abov', 'abroad', 'abs', 'absd', 'abus', 'acc', 'access', 'accid', 'accompl', 'accord', 'account', 'accus', 'acquisit', 'acr', 'act', 'ad', 'addit', 'address', 'adjud', 'admin', 'admiss', 'adopt', 'adultery', 'adv', 'advers', 'advert', 'affect', 'affidavit', 'afford', 'aft', 'ag', 'against', 'agend', 'aggrav', 'agm', 'agr', 'ahead', 'aid', 'airbnb', 'al', 'alleg', 'alloc', 'allow', 'already', 'also', 'alt', 'altern', 'alway', 'am', 'amd', 'among', 'amount', 'an', 'analys', 'ancil', 'and', 'and/or', 'ann', 'annul', 'anoth', 'answ', 'anti-competitive', 'anti-corruption', 'anti-money', 'any', 'anyon', 'ap', 'apac', 'apart', 'appear', 'appl', 'apply', 'appoint', 'approach', 'appropry', 'approv', 'ar', 'arbit', 'are', 'area', 'arf', 'arm', 'around', 'arrang', 'arrest', 'artic', 'as', 'ask', 'assault', 'assembl', 'assess', 'asset', 'assign', 'assist', 'assocy', 'at', 'attempt', 'attend', 'attorney', 'auct', 'audit', 'auth', 'autom', 'autopsy', 'avail', 'avenu', 'avoid', 'aw', 'award', 'away', 'awol', 'back', 'background', 'bad', 'bail', 'bak', 'bank', 'bankrupt', 'bankruptcy', 'bargain', 'bas', 'battl', 'be', 'bear', 'been', 'bef', 'behalf', 'behavio', 'being', 'belong', 'beneficy', 'benefit', 'bequea', 'between', 'beyond', 'bil', 'bind', 'biolog', 'bir', 'blog', 'blogshop', 'blood', 'board', 'body', 'bond', 'born', 'boss', 'both', 'bound', 'box', 'breach', 'breakdown', 'bring', 'brok', 'brought', 'bsd', 'burd', 'busy', 'but', 'buy', 'by', 'by-laws', 'bye', 'ca', 'cal', 'calc', 'can', 'can/must', 'cancel', 'cap', 'capac', 'capit', 'car', 'carbon', 'card', 'carousel', 'carpool', 'carry', 'cas', 'caus', 'cav', 'cccs', 'cdsa', 'ceas', 'cent', 'cert', 'certain', 'cev', 'cgha', 'challeng', 'chang', 'char', 'charact', 'charg', 'chargeback', 'charit', 'cheap', 'check', 'child', 'childr', 'choos', 'chronological', 'circumst', 'circumv', 'cit', 'civil', 'claim', 'class', 'claus', 'claw', 'cle', 'clear', 'clg', 'clgs', 'cli', 'clos', 'cloud', 'club', 'co-executors', 'cod', 'coe', 'col', 'collect', 'collection/debt', 'com', 'comb', 'comfort', 'commerc', 'commit', 'common', 'commons-licenced', 'commonweal', 'commun', 'comp', 'company', 'compel', 'compens', 'competit', 'complaint', 'complet', 'comply', 'compuls', 'concern', 'conclud', 'condit', 'condomin', 'conduc', 'conf', 'confess', 'confid', 'confirm', 'conflict', 'cons', 'consequ', 'consid', 'constitut', 'constrain', 'construct', 'consul', 'consult', 'consum', 'cont', 'contact', 'contain', 'contempl', 'contempt', 'contenty', 'contest', 'continu', 'contract', 'contract-drafting', 'contribut', 'control', 'control/access', 'conv', 'convert', 'convict', 'cop', 'copyc', 'copyright', 'corp', 'correct', 'corrupt', 'cost', 'could', 'council', 'counsel', 'counter-party', 'counter-statement', 'counterclaim', 'counterfeit', 'country', 'cours', 'court', 'court-based', 'cov', 'cpf', 'cre', 'cred', 'credit', 'crim', 'crimin', 'criter', 'cross', 'cross-border', 'crowdfund', 'crowdfunding/crowdlend', 'crowdlend', 'custody', 'custom', 'cyp', 'dam', 'dang', 'dat', 'data/managing', 'day', 'day-to-day', 'de-coupling', 'de-register', 'dea', 'dead', 'deadlin', 'deal', 'dealt', 'debt', 'deceas', 'deceiv', 'decid', 'decl', 'deductions/exemption', 'dee', 'def', 'defam', 'default', 'defect', 'defend', 'defin', 'definit', 'degr', 'delivery', 'demand', 'demerit', 'deo', 'depart', 'deposit', 'deputy', 'desert', 'design', 'desist', 'destin', 'det', 'determin', 'develop', 'did', 'didn', 'die', 'died', 'diff', 'dilig', 'diplom', 'diploma', 'direct', 'disadv', 'disast', 'disburs', 'discard', 'discharg', 'disclaim', 'disclos', 'discovery', 'discret', 'discrimin', 'dishonest', 'dismiss', 'disobedy', 'disobey', 'disord', 'dispens', 'display', 'dispos', 'disput', 'disq', 'dissolv', 'distress', 'distribut', 'divid', 'dividend', 'divorc', 'dnc', 'do', 'doct', 'docu', 'document-heavy', 'doe', 'dog', 'domain', 'domest', 'domicil', 'don', 'door', 'dos', 'down', 'download', 'draft', 'drew', 'drink', 'drink-drivers', 'drink-driving', 'driv', 'drs', 'drug', 'drunk', 'due', 'dur', 'duty', 'e-scooter', 'e-scooter/pmd', 'e-scooters', 'each', 'ear', 'ebrc', 'econom', 'ect', 'educ', 'effect', 'eggs/sperm', 'egm', 'eith', 'elect', 'electron', 'elig', 'elsewh', 'email', 'emissions-based', 'employ', 'employer-employee', 'en-bloc', 'enco', 'encount', 'enforc', 'eng', 'enjoy', 'enough', 'ens', 'ent', 'entir', 'entitl', 'environ', 'eo', 'equit', 'er', 'ess', 'est', 'estim', 'estoppel', 'etc', 'etc.', 'ev', 'everyth', 'evid', 'evil', 'ex', 'ex-spouse', 'exact', 'examin', 'exampl', 'exc', 'exceiv', 'excess', 'exclud', 'execut', 'exempt', 'exerc', 'exit', 'expatry', 'expect', 'expedit', 'expendit', 'expens', 'expert', 'expery', 'expiry', 'express', 'ext', 'extend', 'extern', 'extort', 'extr', 'extra-territorial', 'extract', 'extraordin', 'extrem', 'fac', 'face-to-fac', 'fact', 'fail', 'fair', 'fal', 'fals', 'famy', 'far', 'fast', 'fath', 'fdw', 'fdws', 'feat', 'fee', 'fiducy', 'field', 'fight', 'fil', 'fin', 'find', 'finding/track', 'fir', 'firm', 'first', 'fix', 'flat', 'flexible-f', 'follow', 'food', 'for', 'forbid', 'forc', 'foreign', 'forfeit', 'form', 'found', 'four', 'franch', 'fre', 'freedom', 'freel', 'frequ', 'friend/relative', 'from', 'front', 'ful', 'fulfil', 'full-time', 'fun', 'funct', 'fund', 'fund-raising', 'furth', 'fut', 'gain', 'gang', 'garn', 'gath', 'gdpr', 'gen', 'get', 'gift', 'giv', 'gloss', 'go', 'goe', 'going', 'good', 'goodby', 'goodwil', 'govern', 'grant', 'griev', 'groom', 'ground', 'group', 'gst', 'guar', 'guarantee', 'guard', 'guest', 'guid', 'guidelin', 'guil', 'habit', 'had', 'hagu', 'haj', 'hal', 'halal-certified', 'half-brother', 'hap', 'has', 'hav', 'hdb', 'he', 'he/sh', 'heal', 'healthc', 'hear', 'hearsay', 'held', 'hello', 'helmet', 'help', 'her', 'hi', 'hierarchy', 'high', 'him', 'hir', 'hire-purchas', 'his', 'his/her', 'hist', 'hold', 'holiday', 'home-based', 'honest', 'hospit', 'hot', 'hour', 'hous', 'how', 'hurt', 'husband', 'i', 'i.', 'i.e', 'ic', 'id', 'ident', 'if', 'if/when', 'ii', 'il', 'illeg', 'illegally-obtained', 'illegitim', 'im', 'immedy', 'immigr', 'immov', 'impl', 'imply', 'import', 'impos', 'impress', 'improp', 'in', 'inacc', 'incid', 'includ', 'incorp', 'increas', 'ind', 'indemn', 'independ', 'individ', 'indust', 'industry', 'inflict', 'inform', 'information-connected', 'infr', 'ingredy', 'inherit', 'injunct', 'injury', 'inm', 'innomin', 'inquiry', 'ins', 'insid', 'insolv', 'inspect', 'inst', 'instead', 'institut', 'insufficy', 'int', 'intellect', 'inter-spousal', 'interest', 'intern', 'internet', 'interpret', 'interview', 'intest', 'intimid', 'into', 'introduc', 'inv', 'invalid', 'invers', 'investig', 'involv', 'io', 'iou', 'ipc', 'irretriev', 'is', 'issu', 'it', 'item', 'iv', 'janu', 'jargon', 'job', 'join', 'joint', 'jud', 'judg', 'jump', 'jurisdict', 'just', 'kalco', 'keep', 'ket', 'key', 'kind', 'know', 'known', 'label', 'labo', 'lack', 'landlord', 'landlord-tenant', 'landscap', 'last', 'lat', 'laund', 'law', 'lawsuit', 'lawy', 'leas', 'least', 'leav', 'left', 'leg', 'legisl', 'legitim', 'lemon', 'lend', 'leng', 'less', 'let', 'level', 'levy', 'liabl', 'lic', 'licence/halal', 'licenses/approval', 'lieu', 'lif', 'life-sustaining', 'lifetim', 'lift', 'lik', 'lim', 'limit', 'lin', 'liqu', 'liquid', 'list', 'litig', 'litigants-in-person', 'liv', 'llc', 'loan', 'loc', 'lodg', 'long', 'look', 'los', 'loss', 'lost', 'lottery', 'lov', 'lower-ranked', 'lta-approved', 'mad', 'mag', 'maid', 'main', 'maint', 'maintain', 'maintenance/variation', 'maj', 'mak', 'man', 'mand', 'many', 'marit', 'mark', 'market', 'marry', 'mat', 'matern', 'matrimon', 'max', 'maxim', 'may', 'mc', 'me', 'mean', 'med', 'medy', 'meet', 'memb', 'memorand', 'ment', 'menu', 'mer', 'merg', 'merit', 'mess', 'method', 'midrec', 'might', 'min', 'mind', 'minim', 'mir', 'misappropry', 'miscel', 'misconceiv', 'misrepres', 'miss', 'misus', 'mitig', 'mlm', 'mlms', 'mobl', 'mod', 'modesty', 'molest', 'mom', 'monet', 'money', 'mony', 'mor', 'morator', 'mortg', 'most', 'mot', 'moth', 'mou', 'mov', 'mpp', 'much', 'mui', 'multipl', 'muslim', 'must', 'mut', 'mutual/mirror/joint', 'my', 'myself', 'nam', 'nat', 'necess', 'nee', 'neglig', 'negoty', 'nev', 'nevertheless', 'new', 'newslet', 'next', 'next-of-kin', 'nich', 'no', 'nomin', 'non', 'non-arrestable', 'non-competit', 'non-compliance', 'non-delegable', 'non-disclosure', 'non-durable', 'non-payment', 'non-profit', 'non-tax', 'non-use', 'not', 'nov', 'now', 'nric', 'nuis', 'numb', 'o/a-level', 'oath', 'object', 'oblig', 'obtain', 'occ', 'occupy', 'of', 'off', 'offend', 'oft', 'old', 'omv', 'on', 'onto', 'op', 'opin', 'oppon', 'opportun', 'oppos', 'opposit', 'oppress', 'opt', 'or', 'ord', 'org', 'origin', 'oth', 'otherw', 'our', 'out', 'outcom', 'outlet', 'outsid', 'outstand', 'ov', 'overal', 'overarch', 'overrid', 'oversea', 'overview', 'ow', 'own', 'paid', 'par', 'parlia', 'part', 'part-purchase', 'part-time', 'particul', 'partit', 'partn', 'party', 'party-and-party', 'pass', 'passport', 'patern', 'path', 'pay', 'payslip', 'pdpa', 'pedest', 'pel', 'pen', 'penal', 'penet', 'peopl', 'period', 'perm', 'permit', 'person', 'pg', 'phon', 'photograph', 'piec', 'plac', 'plaintiff', 'plan', 'ple', 'plead', 'pledg', 'pme', 'point', 'poison', 'pol', 'policy', 'polygraph', 'polytechn', 'poss', 'possess', 'post', 'post-agm', 'post-hearing', 'post-incorporation', 'post-registration', 'post-voting', 'post/ordinary', 'postnupt', 'postpon', 'pow', 'ppo', 'pract', 'pre-action', 'pre-conditions', 'pre-divorc', 'pre-emptiv', 'pre-hearing', 'pre-registration-', 'pre-trial', 'precaut', 'pref', 'prejud', 'prelimin', 'prem', 'prenupt', 'prep', 'prepaid', 'pres', 'presid', 'presum', 'prev', 'prevy', 'pri', 'pric', 'princip', 'principl', 'priv', 'privileg', 'proact', 'prob', 'proc', 'process', 'produc', 'profess', 'profil', 'profit', 'program', 'progress', 'prohibit', 'promiss', 'proof', 'prop', 'property', 'propos', 'propriet', 'prosecut', 'prospect', 'protect', 'prov', 'provid', 'provok', 'proxy', 'publ', 'pun', 'punit', 'pur', 'purchas', 'purpos', 'pursu', 'put', 'qual', 'quant', 'quest', 'quiet', 'quor', 'quot', 'rang', 'rap', 'rash', 'rat', 'ratio', 'raymond', 're', 're-enter', 're-entry', 're-gifts', 'reach', 'real', 'reason', 'reasonably-priced', 'receiv', 'recipy', 'reckless', 'recognit', 'record', 'recours', 'recov', 'recovery', 'recruit', 'recyc', 'redeem', 'redomicy', 'redress', 'reduc', 'ref', 'refer', 'refin', 'reform', 'refund', 'refus', 'reg', 'regard', 'regim', 'registr', 'regul', 'reject', 'rel', 'releas', 'relev', 'reliev', 'religy', 'rely', 'remain', 'remedy', 'remot', 'remov', 'remun', 'rend', 'reneg', 'renew', 'renov', 'rent', 'renunt', 'repair', 'repay', 'replac', 'report', 'repossess', 'repres', 'request', 'requir', 'requisit', 'research', 'resid', 'resign', 'resolv', 'resort', 'respect', 'respond', 'respons', 'rest', 'resta', 'restrict', 'restruct', 'result', 'ret', 'retain', 'retrench', 'return', 'review', 'revoc', 'revok', 'rid', 'right', 'riot', 'ro', 'road', 'rol', 'room', 'row', 'royal', 'rt', 'rul', 's', 'saf', 'safeguard', 'sal', 'salary-related', 'sam', 'sampl', 'sav', 'say', 'scal', 'scam', 'scand', 'scenario', 'schedule', 'scheme', 'schemes', 'scop', 'scor', 'seal', 'search', 'seat', 'sec', 'secret', 'sect', 'see', 'seek', 'seiz', 'sel', 'select', 'self-incrimination', 'self-inflicted', 'send', 'sensit', 'sent', 'sep', 'serv', 'sery', 'sess', 'set', 'settl', 'sex', 'sext', 'sfa', 'sgdc', 'sghc', 'sham', 'shar', 'sharehold', 'shop', 'short', 'should', 'show', 'shown', 'sibl', 'sign', 'simil', 'simpl', 'singap', 'singapore-resident', 'singl', 'single-document', 'situ', 'slap', 'smal', 'so', 'soc', 'softw', 'sol', 'sold', 'sole-proprietorship', 'solv', 'som', 'someon', 'someth', 'sourc', 'spac', 'spec', 'spee', 'speech', 'spend', 'spent', 'spous', 'springing', 'staff', 'stag', 'stakehold', 'stalk', 'stamp', 'standard', 'start', 'start-ups', 'stat', 'statements/misrepresentation', 'statut', 'stay', 'step', 'stil', 'stock', 'stol', 'stop', 'strata', 'strength', 'strike', 'striking', 'struck', 'structure', 'study', 'sub-lease', 'subject', 'sublet', 'submit', 'subpoen', 'subscrib', 'subsidy', 'substitut', 'success', 'such', 'sue', 'suff', 'suggest', 'suicid', 'suing', 'suit', 'sum', 'summon', 'suppl', 'supply', 'support', 'sur', 'surrend', 'surrog', 'surv', 'suspect', 'suspend', 'syariah', 'system', 't', 'tabl', 'tafep', 'tak', 'tax', 'tdsr', 'team', 'tear', 'tel', 'tele-visit', 'temp', 'templ', 'ten', 'tenancy-in-common', 'term', 'termin', 'test', 'testa', 'than', 'thank', 'that', 'the', 'theft', 'their', 'them', 'then', 'ther', 'thes', 'they', 'thi', 'thing', 'third-party', 'thought', 'threatened', 'threats', 'through', 'tim', 'timelin', 'tip', 'titl', 'to', 'too', 'tort', 'tot', 'tour', 'track', 'trad', 'trademark', 'traff', 'traffick', 'train', 'transact', 'transf', 'transfer', 'transl', 'transpl', 'transport', 'travel', 'tre', 'tri', 'tribun', 'trip', 'tru', 'trust', 'ts', 'turn', 'two', 'typ', 'uct', 'uen', 'ul2272', 'un', 'uncontest', 'und', 'understand', 'undertak', 'undervalu', 'unfair', 'univers', 'unjust', 'unlaw', 'unnecess', 'unreason', 'until', 'up', 'upd', 'uphold', 'upon', 'us', 'util', 'valet', 'valid', 'valu', 'vand', 'vary', 've', 'vehic', 'vehicle-related', 'ver', 'via', 'vic', 'victim', 'video', 'viol', 'visit', 'void', 'volunt', 'vot', 'vs', 'w', 'waiv', 'want', 'war', 'warn', 'warranty', 'was', 'watch', 'way', 'we', 'weapon', 'wear', 'web', 'websit', 'wedlock', 'weight', 'wel', 'well-resourced', 'wer', 'what', 'when', 'wher', 'whereabout', 'wheth', 'which', 'whil', 'who', 'whoev', 'whom', 'whos', 'why', 'wif', 'wil', 'win', 'wind', 'wit', 'with', 'withdrawn', 'withhold', 'within', 'without', 'wom', 'work', 'would', 'wound', 'writ', 'wss', 'wss-related', 'y', 'year', 'yo', 'you', 'young', 'yourself', '–', '‘', '’', '“', '”']\n"
     ]
    }
   ],
   "source": [
    "words = []\n",
    "classes = []\n",
    "documents = []\n",
    "ignore_words = ['?']\n",
    "# loop through each sentence in our intents patterns\n",
    "for intent in intents['intents']:\n",
    "    for pattern in intent['patterns']:\n",
    "        # tokenize each word in the sentence\n",
    "        w = nltk.word_tokenize(pattern)\n",
    "        # add to our words list\n",
    "        words.extend(w)\n",
    "        # add to documents in our corpus\n",
    "        documents.append((w, intent['tag']))\n",
    "        # add to our classes list\n",
    "        if intent['tag'] not in classes:\n",
    "            classes.append(intent['tag'])\n",
    "\n",
    "# stem and lower each word and remove duplicates\n",
    "words = [stemmer.stem(w.lower()) for w in words if w not in ignore_words]\n",
    "words = sorted(list(set(words)))\n",
    "\n",
    "# remove duplicates\n",
    "classes = sorted(list(set(classes)))\n",
    "\n",
    "print (len(documents), \"documents\")\n",
    "print (len(classes), \"classes\", classes)\n",
    "print (len(words), \"unique stemmed words\", words)"
   ]
  },
  {
   "cell_type": "code",
   "execution_count": null,
   "metadata": {},
   "outputs": [],
   "source": [
    "# create our training data\n",
    "training = []\n",
    "output = []\n",
    "# create an empty array for our output\n",
    "output_empty = [0] * len(classes)\n",
    "\n",
    "# training set, bag of words for each sentence\n",
    "for doc in documents:\n",
    "    # initialize our bag of words\n",
    "    bag = []\n",
    "    # list of tokenized words for the pattern\n",
    "    pattern_words = doc[0]\n",
    "    # stem each word\n",
    "    pattern_words = [stemmer.stem(word.lower()) for word in pattern_words]\n",
    "    # create our bag of words array\n",
    "    for w in words:\n",
    "        bag.append(1) if w in pattern_words else bag.append(0)\n",
    "\n",
    "    # output is a '0' for each tag and '1' for current tag\n",
    "    output_row = list(output_empty)\n",
    "    output_row[classes.index(doc[1])] = 1\n",
    "\n",
    "    training.append([bag, output_row])\n",
    "\n",
    "# shuffle our features and turn into np.array\n",
    "random.shuffle(training)\n",
    "training = np.array(training)\n",
    "\n",
    "# create train and test lists\n",
    "train_x = list(training[:,0])\n",
    "train_y = list(training[:,1])"
   ]
  },
  {
   "cell_type": "code",
   "execution_count": null,
   "metadata": {},
   "outputs": [
    {
     "name": "stdout",
     "output_type": "stream",
     "text": [
      "Training Step: 22986  | total loss: \u001b[1m\u001b[32m0.23631\u001b[0m\u001b[0m | time: 0.114s\n",
      "\u001b[2K\r",
      "| Adam | epoch: 091 | loss: 0.23631 - acc: 0.9465 -- iter: 0288/2038\n"
     ]
    }
   ],
   "source": [
    "# reset underlying graph data\n",
    "tf.reset_default_graph()\n",
    "# Build neural network\n",
    "net = tflearn.input_data(shape=[None, len(train_x[0])])\n",
    "net = tflearn.fully_connected(net, 8)\n",
    "net = tflearn.fully_connected(net, 8)\n",
    "net = tflearn.fully_connected(net, len(train_y[0]), activation='softmax')\n",
    "net = tflearn.regression(net)\n",
    "\n",
    "# Define model and setup tensorboard\n",
    "model = tflearn.DNN(net, tensorboard_dir='tflearn_logs')\n",
    "# Start training (apply gradient descent algorithm)\n",
    "model.fit(train_x, train_y, n_epoch=1101, batch_size=8, show_metric=True)\n",
    "model.save('model.tflearn')"
   ]
  },
  {
   "cell_type": "code",
   "execution_count": null,
   "metadata": {},
   "outputs": [],
   "source": [
    "def clean_up_sentence(sentence):\n",
    "    # tokenize the pattern\n",
    "    sentence_words = nltk.word_tokenize(sentence)\n",
    "    # stem each word\n",
    "    sentence_words = [stemmer.stem(word.lower()) for word in sentence_words]\n",
    "    return sentence_words\n",
    "\n",
    "# return bag of words array: 0 or 1 for each word in the bag that exists in the sentence\n",
    "def bow(sentence, words, show_details=False):\n",
    "    # tokenize the pattern\n",
    "    sentence_words = clean_up_sentence(sentence)\n",
    "    # bag of words\n",
    "    bag = [0]*len(words)  \n",
    "    for s in sentence_words:\n",
    "        for i,w in enumerate(words):\n",
    "            if w == s: \n",
    "                bag[i] = 1\n",
    "                if show_details:\n",
    "                    print (\"found in bag: %s\" % w)\n",
    "\n",
    "    return(np.array(bag))"
   ]
  },
  {
   "cell_type": "code",
   "execution_count": null,
   "metadata": {},
   "outputs": [],
   "source": [
    "p = bow(\"is your shop open today?\", words)\n",
    "print (p)\n",
    "print (classes)"
   ]
  },
  {
   "cell_type": "code",
   "execution_count": null,
   "metadata": {},
   "outputs": [],
   "source": [
    "print(model.predict([p]))\n"
   ]
  },
  {
   "cell_type": "code",
   "execution_count": null,
   "metadata": {},
   "outputs": [],
   "source": [
    "# save all of our data structures\n",
    "import pickle\n",
    "pickle.dump( {'words':words, 'classes':classes, 'train_x':train_x, 'train_y':train_y}, open( \"training_data\", \"wb\" ) )"
   ]
  },
  {
   "cell_type": "code",
   "execution_count": 16,
   "metadata": {},
   "outputs": [],
   "source": []
  },
  {
   "cell_type": "code",
   "execution_count": 17,
   "metadata": {},
   "outputs": [],
   "source": []
  },
  {
   "cell_type": "code",
   "execution_count": null,
   "metadata": {},
   "outputs": [],
   "source": []
  },
  {
   "cell_type": "code",
   "execution_count": null,
   "metadata": {},
   "outputs": [],
   "source": []
  },
  {
   "cell_type": "code",
   "execution_count": null,
   "metadata": {},
   "outputs": [],
   "source": []
  },
  {
   "cell_type": "code",
   "execution_count": null,
   "metadata": {},
   "outputs": [],
   "source": []
  }
 ],
 "metadata": {
  "kernelspec": {
   "display_name": "Python 3",
   "language": "python",
   "name": "python3"
  },
  "language_info": {
   "codemirror_mode": {
    "name": "ipython",
    "version": 3
   },
   "file_extension": ".py",
   "mimetype": "text/x-python",
   "name": "python",
   "nbconvert_exporter": "python",
   "pygments_lexer": "ipython3",
   "version": "3.5.6"
  }
 },
 "nbformat": 4,
 "nbformat_minor": 2
}
