{
 "cells": [
  {
   "cell_type": "code",
   "execution_count": 4,
   "metadata": {},
   "outputs": [],
   "source": [
    "\n",
    "# things we need for NLP\n",
    "import nltk\n",
    "from nltk.stem.lancaster import LancasterStemmer\n",
    "stemmer = LancasterStemmer()\n",
    "\n",
    "# things we need for Tensorflow\n",
    "import numpy as np\n",
    "import tflearn\n",
    "import tensorflow as tf\n",
    "import random\n"
   ]
  },
  {
   "cell_type": "code",
   "execution_count": 5,
   "metadata": {},
   "outputs": [],
   "source": [
    "\n",
    "# restore all of our data structures\n",
    "import pickle\n",
    "data = pickle.load( open( \"training_data\", \"rb\" ) )\n",
    "words = data['words']\n",
    "classes = data['classes']\n",
    "train_x = data['train_x']\n",
    "train_y = data['train_y']\n",
    "\n",
    "# import our chat-bot intents file\n",
    "import json\n",
    "with open('intents.json') as json_data:\n",
    "    intents = json.load(json_data)"
   ]
  },
  {
   "cell_type": "code",
   "execution_count": 6,
   "metadata": {},
   "outputs": [
    {
     "name": "stdout",
     "output_type": "stream",
     "text": [
      "WARNING:tensorflow:From c:\\users\\abhyu\\anaconda3\\envs\\chat_bot\\lib\\site-packages\\tflearn\\objectives.py:66: calling reduce_sum (from tensorflow.python.ops.math_ops) with keep_dims is deprecated and will be removed in a future version.\n",
      "Instructions for updating:\n",
      "keep_dims is deprecated, use keepdims instead\n"
     ]
    }
   ],
   "source": [
    "\n",
    "# Build neural network\n",
    "net = tflearn.input_data(shape=[None, len(train_x[0])])\n",
    "net = tflearn.fully_connected(net, 8)\n",
    "net = tflearn.fully_connected(net, 8)\n",
    "net = tflearn.fully_connected(net, len(train_y[0]), activation='softmax')\n",
    "net = tflearn.regression(net)\n",
    "\n",
    "# Define model and setup tensorboard\n",
    "model = tflearn.DNN(net, tensorboard_dir='tflearn_logs')"
   ]
  },
  {
   "cell_type": "code",
   "execution_count": 7,
   "metadata": {},
   "outputs": [],
   "source": [
    "def clean_up_sentence(sentence):\n",
    "    # tokenize the pattern\n",
    "    sentence_words = nltk.word_tokenize(sentence)\n",
    "    # stem each word\n",
    "    sentence_words = [stemmer.stem(word.lower()) for word in sentence_words]\n",
    "    return sentence_words\n",
    "\n",
    "# return bag of words array: 0 or 1 for each word in the bag that exists in the sentence\n",
    "def bow(sentence, words, show_details=False):\n",
    "    # tokenize the pattern\n",
    "    sentence_words = clean_up_sentence(sentence)\n",
    "    # bag of words\n",
    "    bag = [0]*len(words)  \n",
    "    for s in sentence_words:\n",
    "        for i,w in enumerate(words):\n",
    "            if w == s: \n",
    "                bag[i] = 1\n",
    "                if show_details:\n",
    "                    print (\"found in bag: %s\" % w)\n",
    "\n",
    "    return(np.array(bag))"
   ]
  },
  {
   "cell_type": "code",
   "execution_count": 8,
   "metadata": {},
   "outputs": [
    {
     "name": "stdout",
     "output_type": "stream",
     "text": [
      "[0 0 0 ... 0 0 0]\n",
      "['5-things-you-need-to-know-about-insider-trading', '6-common-terms-in-tenancy-agreements-what-they-mean', '6-things-you-need-to-know-about-third-party-funding-in-international-arbitration', 'Divorce-Certificates-Singapore-Get-Copy-FAQs', 'Engagement-Warrants-Retainers-Engaging-Lawyer-Singapore', 'Fees-Hiring-Criminal-Lawyer-Singapore', 'GDPR-Compliance-Singapore-Required', 'Joining-Gang-Illegal-Singapore', 'Sell-Insurance-Policy-Singapore', 'Writ-of-seizure-and-sale-enforce-judgment', 'accident-in-malaysia-what-to-do', 'add-parents-name-childs-birth-certificate-singapore', 'admissibility-of-evidence-in-the-singapore-courts', 'advance-medical-directives-in-singapore', 'all-you-need-to-know-about-corruption-in-singapore', 'all-you-need-to-know-about-the-employment-claims-tribunals', 'annual-general-meetings-what-are-they', 'anti-money-laundering-laws-and-you', 'anti-money-laundering-regulations-and-your-business-what-you-need-to-know', 'apply-halal-certification-singapore-restaurant', 'apply-public-entertainment-licence', 'applying-for-a-grant-of-probate', 'appoint-deputy-loved-one-lacking-mental-capacity-singapore', 'appointing-company-directors-singapore-eligibility-process', 'appointing-guardian-children-will-singapore', 'appointment-deputies-mental-capacity-act', 'arbitration-and-mediation-when-it-can-be-useful-for-business-disputes', 'are-landlords-tenants-and-agents-liable-for-sex-trade-in-condominiumshdb-flats', 'are-sham-marriages-illegal-in-singapore', 'arrestable-or-not-seizable-and-non-seizable-offences-in-singapore', 'as-is-where-is-clause', 'assignment-novation-transfer-contract-singapore', 'bails-bailable-offences-non-bailable-offences-and-sureties-in-singapore', 'beating-the-additional-buyers-stamp-duty', 'beneficiary-dies-before-receiving-inheritance', 'best-summary-general-election-process', 'board-resolutions-in-singapore', 'breach-of-contract-in-singapore', 'business-referral-agreement-guide', 'business-sale-and-purchase-in-singapore', 'businesses-legally-conduct-lucky-draws-singapore', 'buy-house-property-auction-singapore', 'buy-over-business-singapore', 'buyer-stamp-duties-singapore', 'buying-a-car-in-singapore-a-comprehensive-guide', 'buying-a-property-on-trust-for-your-child', 'buying-property-in-singapore-how-to-pay-for-your-property', 'can-a-half-brother-be-considered-a-next-of-kin-when-distributing-the-assets-of-the-deceased', 'can-foreigners-divorce-in-singapore', 'can-i-compel-another-party-to-honour-an-agreement', 'can-i-distribute-life-insurance-proceeds-by-using-a-will', 'can-i-sue-a-foreigner-in-singapore', 'cannot-find-will', 'carousell-seller-uncontactable', 'carpool-legal-singapore', 'caught-speeding-singapore', 'certified-organic-food-singapore-meaning', 'certify-true-copy-singapore', 'change-name-singapore-company', 'change-registered-address-singapore-company', 'change-will', 'charged-traffic-offence-singapore', 'cheapest-divorce-lawyer-singapore', 'checklist-drafting-comprehensive-will-singapore', 'child-custody-lawyer-singapore', 'child-maintenance-singapore', 'choose-business-name-singapore', 'civil-litigation-in-singapore', 'claiming-for-pain-and-suffering-in-personal-injury-cases-how-much-compensation', 'claiming-personal-injury', 'claiming-trial-accused', 'close-singapore-business', 'commercial-lease-disputes-in-singapore', 'common-terms-in-sale-purchase-agreements', 'company-audits-singapore', 'company-memorandum-and-articles-of-association', 'company-resolutions', 'company-struck-off-apply-restoration', 'company-winding-up-payment-validation', 'competition-law-and-your-business-what-you-need-to-know', 'consultancy-agreement-guide', 'contempt-of-court-singapore', 'contested-vs-uncontested-divorce-singapore', 'contract-of-service-contract-for-service-singapore-difference', 'contracting-via-electronic-communications', 'contractor-damage-neighbour-property-liability', 'convert-singapore-sole-proprietorship-to-pte-ltd-company', 'converting-a-joint-tenancy-to-a-tenancy-in-common', 'corporate-lawyers-charge-work', 'corporate-lawyers-for-smes-in-singapore-how-they-can-help-your-business', 'corporate-lawyers-in-singapore', 'criminal-appeals-in-singapore', 'criminal-offences-relating-trade-marks', 'criminal-records-in-singapore', 'cross-border-child-custody-the-hague-convention-on-international-child-abduction', 'crowdfunding-and-crowdlending-in-singapore', 'dangerous-driving-penalties-singapore', 'data-protection-officer', 'dealing-with-defamation-business', 'death-registry-autopsy-funeral-expenses-singapore', 'debt-recovery-lawyers-in-singapore', 'debt-recovery-singapore', 'debt-repayment-scheme-guide-drs-singapore', 'default-judgments-and-summary-judgments-in-singapore', 'defences-trademark-infringement', 'different-classes-of-shares-singapore', 'directors-duties-in-singapore', 'directors-remuneration-singapore', 'discharge-bankruptcy-singapore', 'dispose-documents-personal-data', 'disputes-with-executors-disputes-between-executors-will-singapore', 'dissolution-of-partnerships-in-singapore', 'distributor-agreement-guide', 'dividend-payments-guide-singapore', 'divorce-application-substituted-service-and-dispensed-service', 'divorce-fee-guide-singapore', 'divorce-finance-questions', 'divorce-lawyers-in-singapore', 'divorce-mediation-in-singapore', 'divorce-procedure-part-1-dissolution-of-marriage', 'divorce-procedure-part-2-ancillary-matters', 'divorce-unreasonable-behaviour', 'do-not-call-registry-marketing-singapore-phone-numbers', 'drafting-comprehensive-privacy-policy-singapore-website', 'due-diligence-process-in-mergers-and-acquisitions', 'dui-penalties-drink-driving-singapore', 'e-scooter-accident', 'e-scooter-laws-singapore', 'e-scooter-rider-accident', 'email-newsletters-comply-singapore-law', 'employee-references-obligations', 'employment-agreement-guide', 'employment-disputes-in-singapore', 'employment-law-overview-singapore', 'enforcement-court-judgments-orders-singapore', 'entire-agreement-clause-singapore', 'essential-pdpa-compliance-guide-singapore-businesses', 'estate-planning-in-singapore-tools', 'expat-foreigner-divorce-singapore-legal-issues', 'extraordinary-general-meeting-egm-singapore', 'fatal-traffic-accidents-are-drivers-always-punished', 'fiduciaries-and-fiduciary-law-in-singapore', 'file-medical-negligence-claim-high-court', 'file-proof-of-debt-against-company-liquidation', 'filing-annual-returns-for-your-business', 'filing-for-bankruptcy-singapore', 'first-meeting-business-dispute-lawyer-expectations', 'first-meeting-divorce-lawyer-what-to-bring', 'foreign-companies-setting-up-Singapore', 'foreigners-start-business-Singapore', 'franchising-in-singapore', 'free-legal-clinics', 'freelance-service-agreement-guide', 'get-back-money-company-closing-down-singapore', 'goodbye', 'greeting', 'guide-cpf-nominations-how-to-make-singapore', 'guide-to-hiring-employees-in-singapore', 'hague-convention-international-child-abduction-singapore', 'having-an-illegitimate-child-singapore', 'hdb-flat-divorce', 'hdb-flat-owner-pass-away', 'hdb-power-of-attorney-where-to-get-one', 'hiring-lawyer-draft-contract', 'home-baked-goods-licence-singapore', 'how-can-a-victim-of-counterfeit-contact-lenses-or-other-defective-health-products-seek-redress', 'how-can-i-buy-my-co-owners-share-of-the-property', 'how-do-i-adopt-a-child-in-singapore', 'how-do-i-legally-change-my-name', 'how-do-i-make-a-will', 'how-do-i-recover-a-debt-from-a-personal-loan-made-to-a-friend-in-singapore-does-it-matter-if-i-have-an-iou', 'how-do-i-register-a-trademark-in-singapore', 'how-do-you-apply-for-a-certificate-of-clearance', 'how-does-the-hire-purchase-act-protect-consumers-in-singapore', 'how-to-access-the-bank-account-of-a-deceased-spouse', 'how-to-affirm-an-affidavit-outside-of-singapore', 'how-to-be-a-better-client-to-your-lawyer', 'how-to-donate-your-assets-to-charity', 'how-to-find-a-good-lawyer', 'how-to-get-a-divorce-within-3-years-of-marriage', 'how-to-hire-foreign-workers-in-singapore', 'how-to-prove-adultery', 'how-to-solve-neighbour-disputes', 'if-my-dog-bites-somebody-will-i-be-liable', 'immigration-issues-for-divorcing-expatriates', 'implied-terms', 'in-the-absence-of-a-will-how-is-the-deceased-estate-distributed', 'indemnity-clauses-singapore-commercial-contracts', 'informal-debt-restructuring-and-workout-in-singapore', 'infringing-goods-private-prosecution', 'inheritance-family-provision-act-in-singapore', 'inheritance-tax-estate-duty-singapore', 'insolvency-claw-back-of-assets-from-unfair-preference-and-undervalue-transactions', 'insurance-buy-protect-singapore-business', 'investigated-for-a-criminal-offence', 'is-airbnb-illegal-singapore', 'is-it-illegal-to-commit-suicide-in-singapore-will-i-be-punished-if-my-attempt-at-suicide-fails', 'is-multi-level-marketingmlm-legal', 'issue-shares-singapore-private-company', 'issuing-convertible-bonds-and-loans-for-smes', 'issuing-share-options-and-warrants-in-singapore', 'judicial-management', 'keep-your-loved-ones-secure-and-protected-with-a-legally-binding-will', 'landlord-wont-return-security-deposit', 'lawyer-turning-down-case', 'legal-age-for-sex-in-singapore', 'legal-businesses-ask-nric-singapore', 'legal-compliance-small-company', 'legal-drinking-age-singapore-drinking-related-laws', 'legal-fees-in-civil-litigation', 'legal-tips-starting-online-business-singapore', 'letter-for-trademark-infringement-what-should-i-do', 'letters-of-demand-and-their-usages-in-singapore', 'lie-detector-test-singapore-faqs', 'loan-guarantor-issues', 'love-conquers-all-the-divorce-that-didnt-happen', 'magistrates-complaints-private-summons-and-private-prosecutions-in-singapore', 'maintenance-of-spouse-in-a-divorce', 'make-small-claim-small-claims-tribunal-singapore', 'making-statutory-declaration-singapore', 'mandatory-parenting-programme-divorcing-parents', 'maternity-leave-in-singapore-under-the-employment-act', 'mediation-in-singapore', 'medical-negligence-and-malpractice-in-singapore', 'memorandum-of-understanding-mou-business', 'mental-capacity-assessment-for-lpas-and-wills', 'military-law-and-how-it-affects-every-singaporean-son', 'misbehaving-in-public-5-things-you-need-to-know', 'missing-persons-singapore-family-step-never-found', 'mitigation-plea', 'mortgage-debts-bills-responsible-after-death', 'motor-accidents-roads-making-defending-claims', 'muslim-divorce-in-singapore', 'muslim-inheritance-law-in-singapore', 'non-disclosure-agreement-guide', 'notary-public-fees-singapore', 'occupiers-liability-in-singapore', 'official-secrets-act-singapore', 'online-purchase-scams-what-to-do-if-your-orders-do-not-arrive', 'open-corporate-bank-account-singapore', 'oppression-of-minority-shareholders', 'option-to-purchase-before-exercising', 'organ-donation-in-singapore', 'overseas-divorce', 'partnership-agreement-guide', 'paternity-leave-singapore', 'pdpa-consent-requirements-business-comply', 'personal-data-protection-act-obligations', 'personal-injury-lawyers-in-singapore', 'plea-bargaining-in-singapore-all-you-need-to-know', 'plead-guilty', 'police-investigation-singapore', 'post-litigation-costs', 'power-of-attorney-in-singapore-types-and-usages-2', 'pre-emptive-rights-to-share-transfers', 'preference-shares-for-singapore-companies', 'prenuptial-agreements-singapore', 'preparing-divorce', 'presidential-clemency', 'probation-singapore-eligible-criminal-record', 'process-agents-singapore', 'processing-sending-personal-data', 'product-liability-singapore', 'prosecutorial-discretion-singapore', 'protection-from-harassment-applying-for-a-protection-order', 'proving-desertion-divorce', 'public-assemblies-and-processions-in-singapore-police-permits-and-the-public-order-act', 'punitive-damages-singapore-contract-law', 'raising-funds-for-charity', 'received-without-prejudice-letter', 'redomiciliation-singapore', 'reduce-share-capital-singapore-company', 'refinancing-your-housing-loan', 'reformative-training-singapore-ordered', 'register-for-haj-singapore', 'remove-director-company-singapore', 'renovation-disputes-singapore', 'requirements-for-patent-registration', 'resign-singapore-job-what-happens-after', 'resolve-disputes-with-car-dealers', 'revocation-of-a-lasting-power-of-attorney', 'revoke-patent-singapore', 'right-to-freedom-of-speech-and-expression-singapore', 'running-a-franchise-what-to-look-out-for-as-a-franchisee', 'scheme-of-arrangement', 'security-of-payment-act-claiming-progress-payments-for-construction-work-done', 'selling-property-tenant-in-common', 'separation', 'service-agreement-guide', 'set-up-company-limited-by-guarantee-singapore', 'set-up-register-of-controllers', 'set-up-register-of-nominee-directors', 'set-up-restaurant-singapore', 'set-up-subsidiary-singapore-faqs', 'setting-up-a-discretionary-living-trust-in-singapore', 'sexual-harassment-in-singapore-workplace-sexual-harassment', 'shareholder-agreement-guide', 'shareholders-exit-rights-what-you-need-to-know', 'should-you-sue', 'simultaneous-death', 'singapore-commissioner-for-oaths-service-fees', 'singapore-company-registration', 'singapore-corporate-tax-guide-tax-rate-filing-procedure', 'singapore-influencers-income-tax', 'singapore-president-qualifications', 'singapore-president-role-powers', 'singapore-probate-lawyers-hire-what-can-they-do', 'singapore-representative-office-foreign-company-set-up', 'someone-steals-your-car-singapore', 'steps-take-suspect-spouse-cheating', 'storing-personal-data-cloud', 'striking-off-your-company', 'sue-singapore-business', 'suitable-corporate-secretarial-firm-singapore', 'surrender-passport-police', 'surrogacy-singaporean-couples', 'tenancy-agreement-guide', 'termination-employment', 'thanks', 'the-complete-guide-choosing-a-good-divorce-lawyer', 'the-constitution-of-a-company', 'the-conveyancing-process-in-singapore', 'the-guide-to-child-custody-in-singapore', 'the-kiasu-singaporeans-guide-to-hiring-a-maid', 'the-law-of-negligence-in-singapore', 'the-sale-of-food-in-singapore', 'things-to-consider-in-a-retrenchment-exercise', 'tips-best-virtual-office-singapore-business', 'tort-passing-someone-imitated-branding-business', 'trade-mark-opposition-singapore', 'trade-mark-revocation-singapore', 'trademark-used-without-permission', 'transfer-matrimonial-home-ex-spouse-divorce', 'transfer-of-property-in-singapore', 'transfer-shares-singapore-private-company', 'translate-legal-documents-singapore', 'types-lawyers-singapore', 'types-of-injunctions-in-singapore', 'unfair-contract-terms-act-ucta-in-singapore', 'unfair-sale-practices-cooling-periods-right-cancel-contracts-consumer-protection-fair-trading-act', 'up-front-lawyer-fees', 'use-images-on-website-without-violating-singapore-copyright-laws', 'variation-of-maintenance-order-in-singapore', 'visiting-loved-one-prison-death-row-singapore', 'voluntarily-causing-hurt-in-singapore', 'voting-singapore-general-election', 'what-are-singapores-laws-on-abortion', 'what-are-singapores-laws-on-drug-consumption', 'what-are-the-grounds-for-getting-a-divorce', 'what-are-warranties-conditions-and-innominate-terms', 'what-can-debt-collectors-do-and-not-do-under-the-law', 'what-can-i-do-to-protect-myself-in-self-defence-in-singapore', 'what-can-i-register-as-a-trademark', 'what-happens-car-owner-passes-away', 'what-happens-to-a-singapore-expatriates-assets-when-he-passes-on', 'what-happens-to-gifts-between-spouses-when-a-marriage-breaks-down', 'what-happens-to-my-assets-overseas-when-i-pass-on', 'what-happens-to-property-and-assets-located-overseas-upon-a-divorce-in-singapore', 'what-happens-to-property-when-a-deceaseds-next-of-kin-or-named-personal-representative-is-uncontactable', 'what-happens-to-your-debts-when-you-die', 'what-happens-to-your-hdb-flat-after-an-annulment', 'what-if-a-shop-vendor-sells-a-grossly-overpriced-piece-of-merchandise-to-me', 'what-if-i-have-a-tenancy-dispute-or-complaint-in-singapore', 'what-if-someone-defames-me-over-a-blog-or-other-forms-of-social-networking-media', 'what-is-a-beyond-parental-control-order', 'what-is-a-commissioner-of-oath', 'what-is-a-joint-will-mutual-will-and-mirror-will', 'what-is-a-lasting-power-of-attorney', 'what-is-a-notary-public', 'what-is-a-personal-protection-order', 'what-is-a-trust-trust-law-in-singapore', 'what-is-the-law-on-sexting-in-singapore', 'what-is-the-lemon-law', 'what-is-the-minimum-legal-age-for-working-in-singapore', 'what-is-the-offence-of-outrage-of-modesty-in-singapore', 'what-is-the-offence-of-rioting', 'what-should-a-creditor-do-when-a-company-becomes-insolvent', 'what-should-i-do-with-a-deceased-relatives-will-how-is-a-will-executed', 'what-to-do-if-you-have-a-dispute-with-your-condominiums-management', 'what-to-do-in-a-traffic-accident', 'what-to-expect-marriage-counselling-session-singapore', 'when-do-i-need-to-register-a-business-or-a-blogshop-in-singapore-how-do-i-register-a-business', 'where-you-should-store-your-will', 'who-is-covered-employment-act-singapore', 'why-might-an-unwed-parent-adopt-his-or-her-own-biological-child', 'wills-probate-and-executors-in-singapore', 'winding-up-company-singapore', 'withholding-tax-pay-singapore', 'witness-crime-singapore', 'work-on-public-holiday-singapore', 'writ-of-summons', 'writing-website-terms-and-conditions-singapore']\n"
     ]
    }
   ],
   "source": [
    "\n",
    "p = bow(\"is your shop open today?\", words)\n",
    "print (p)\n",
    "print (classes)"
   ]
  },
  {
   "cell_type": "code",
   "execution_count": 9,
   "metadata": {},
   "outputs": [
    {
     "name": "stdout",
     "output_type": "stream",
     "text": [
      "INFO:tensorflow:Restoring parameters from D:\\Courses TERM 2 Year 2\\Legal Hackathon\\Legal-Hackathon\\model.tflearn\n"
     ]
    }
   ],
   "source": [
    "# load our saved model\n",
    "model.load('./model.tflearn')"
   ]
  },
  {
   "cell_type": "code",
   "execution_count": 10,
   "metadata": {},
   "outputs": [],
   "source": [
    "# create a data structure to hold user context\n",
    "context = {}\n",
    "\n",
    "ERROR_THRESHOLD = 0.25\n",
    "def classify(sentence):\n",
    "    # generate probabilities from the model\n",
    "    results = model.predict([bow(sentence, words)])[0]\n",
    "    # filter out predictions below a threshold\n",
    "    results = [[i,r] for i,r in enumerate(results) if r>ERROR_THRESHOLD]\n",
    "    # sort by strength of probability\n",
    "    results.sort(key=lambda x: x[1], reverse=True)\n",
    "    return_list = []\n",
    "    for r in results:\n",
    "        return_list.append((classes[r[0]], r[1]))\n",
    "    # return tuple of intent and probability\n",
    "    return return_list\n",
    "\n",
    "def response(sentence, userID='123', show_details=False):\n",
    "    results = classify(sentence)\n",
    "    # if we have a classification then find the matching intent tag\n",
    "    if results:\n",
    "        # loop as long as there are matches to process\n",
    "        while results:\n",
    "            for i in intents['intents']:\n",
    "                # find a tag matching the first result\n",
    "                if i['tag'] == results[0][0]:\n",
    "                    # set context for this intent if necessary\n",
    "                    if 'context_set' in i:\n",
    "                        if show_details: print ('context:', i['context_set'])\n",
    "                        context[userID] = i['context_set']\n",
    "\n",
    "                    # check if this intent is contextual and applies to this user's conversation\n",
    "                    if not 'context_filter' in i or \\\n",
    "                        (userID in context and 'context_filter' in i and i['context_filter'] == context[userID]):\n",
    "                        if show_details: print ('tag:', i['tag'])\n",
    "                        # a random response from the intent\n",
    "                        return print(random.choice(i['responses']))\n",
    "\n",
    "            results.pop(0)"
   ]
  },
  {
   "cell_type": "code",
   "execution_count": 11,
   "metadata": {},
   "outputs": [
    {
     "data": {
      "text/plain": [
       "[('informal-debt-restructuring-and-workout-in-singapore', 0.555937)]"
      ]
     },
     "execution_count": 11,
     "metadata": {},
     "output_type": "execute_result"
    }
   ],
   "source": [
    "classify('How can I get help on child maintenance issues?')"
   ]
  },
  {
   "cell_type": "code",
   "execution_count": 12,
   "metadata": {},
   "outputs": [
    {
     "name": "stdout",
     "output_type": "stream",
     "text": [
      "https://singaporelegaladvice.com/law-articles/dui-penalties-drink-driving-singapore/\n"
     ]
    }
   ],
   "source": [
    "response('Subletting allowed?')\n",
    "\n"
   ]
  },
  {
   "cell_type": "code",
   "execution_count": 13,
   "metadata": {},
   "outputs": [
    {
     "name": "stdout",
     "output_type": "stream",
     "text": [
      "https://singaporelegaladvice.com/law-articles/what-is-a-beyond-parental-control-order/\n"
     ]
    }
   ],
   "source": [
    "response('Can I ask the Attorney-General to take action on my behalf?')"
   ]
  },
  {
   "cell_type": "code",
   "execution_count": 14,
   "metadata": {},
   "outputs": [
    {
     "name": "stdout",
     "output_type": "stream",
     "text": [
      "https://singaporelegaladvice.com/law-articles/dui-penalties-drink-driving-singapore/\n"
     ]
    }
   ],
   "source": [
    "response('sublet?')"
   ]
  },
  {
   "cell_type": "code",
   "execution_count": 12,
   "metadata": {},
   "outputs": [
    {
     "name": "stdout",
     "output_type": "stream",
     "text": [
      "See you later, thanks for visiting\n"
     ]
    }
   ],
   "source": [
    "response('Goodbye, see you later')"
   ]
  },
  {
   "cell_type": "code",
   "execution_count": 13,
   "metadata": {},
   "outputs": [
    {
     "name": "stdout",
     "output_type": "stream",
     "text": [
      "See you later, thanks for visiting\n"
     ]
    }
   ],
   "source": [
    "response('we want to rent a moped')"
   ]
  },
  {
   "cell_type": "code",
   "execution_count": 14,
   "metadata": {},
   "outputs": [
    {
     "data": {
      "text/plain": [
       "{}"
      ]
     },
     "execution_count": 14,
     "metadata": {},
     "output_type": "execute_result"
    }
   ],
   "source": [
    "# show context\n",
    "context"
   ]
  },
  {
   "cell_type": "code",
   "execution_count": 15,
   "metadata": {},
   "outputs": [
    {
     "name": "stdout",
     "output_type": "stream",
     "text": [
      "Hi there, how can I help?\n"
     ]
    }
   ],
   "source": [
    "response('today')"
   ]
  },
  {
   "cell_type": "code",
   "execution_count": 16,
   "metadata": {},
   "outputs": [
    {
     "data": {
      "text/plain": [
       "[('greeting', 0.39785323)]"
      ]
     },
     "execution_count": 16,
     "metadata": {},
     "output_type": "execute_result"
    }
   ],
   "source": [
    "classify('today')"
   ]
  },
  {
   "cell_type": "code",
   "execution_count": 17,
   "metadata": {},
   "outputs": [
    {
     "name": "stdout",
     "output_type": "stream",
     "text": [
      "context: \n",
      "tag: greeting\n",
      "Hi there, how can I help?\n"
     ]
    }
   ],
   "source": [
    "# clear context\n",
    "response(\"Hi there!\", show_details=True)"
   ]
  },
  {
   "cell_type": "code",
   "execution_count": 18,
   "metadata": {},
   "outputs": [
    {
     "name": "stdout",
     "output_type": "stream",
     "text": [
      "Good to see you again\n"
     ]
    },
    {
     "data": {
      "text/plain": [
       "[('greeting', 0.39785323)]"
      ]
     },
     "execution_count": 18,
     "metadata": {},
     "output_type": "execute_result"
    }
   ],
   "source": [
    "response('today')\n",
    "classify('today')"
   ]
  },
  {
   "cell_type": "code",
   "execution_count": null,
   "metadata": {},
   "outputs": [],
   "source": [
    "response(\"overseas\")\n"
   ]
  },
  {
   "cell_type": "code",
   "execution_count": null,
   "metadata": {},
   "outputs": [],
   "source": []
  },
  {
   "cell_type": "code",
   "execution_count": null,
   "metadata": {},
   "outputs": [],
   "source": []
  }
 ],
 "metadata": {
  "kernelspec": {
   "display_name": "Python 3",
   "language": "python",
   "name": "python3"
  },
  "language_info": {
   "codemirror_mode": {
    "name": "ipython",
    "version": 3
   },
   "file_extension": ".py",
   "mimetype": "text/x-python",
   "name": "python",
   "nbconvert_exporter": "python",
   "pygments_lexer": "ipython3",
   "version": "3.5.6"
  }
 },
 "nbformat": 4,
 "nbformat_minor": 2
}
