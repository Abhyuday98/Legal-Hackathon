{
 "cells": [
  {
   "cell_type": "code",
   "execution_count": 1,
   "metadata": {},
   "outputs": [
    {
     "name": "stdout",
     "output_type": "stream",
     "text": [
      "curses is not supported on this machine (please install/reinstall curses for an optimal experience)\n"
     ]
    }
   ],
   "source": [
    "# things we need for NLP\n",
    "import nltk\n",
    "from nltk.stem.lancaster import LancasterStemmer\n",
    "stemmer = LancasterStemmer()\n",
    "\n",
    "# things we need for Tensorflow\n",
    "import numpy as np\n",
    "import tflearn\n",
    "import tensorflow as tf\n",
    "import random\n",
    "\n"
   ]
  },
  {
   "cell_type": "code",
   "execution_count": 2,
   "metadata": {},
   "outputs": [],
   "source": [
    "import json\n",
    "with open('intents.json') as json_data:\n",
    "    intents = json.load(json_data)"
   ]
  },
  {
   "cell_type": "code",
   "execution_count": 4,
   "metadata": {},
   "outputs": [
    {
     "name": "stdout",
     "output_type": "stream",
     "text": [
      "68 documents\n",
      "39 classes ['', 'Are support programmes and counselling offered for free at DSSA? ', 'Criminal Case Management System (CCMS)', 'How can I get help on child maintenance issues? ', 'How do I get help when I am faced with family violence? ', 'How to institute a Private Prosecutor', 'I am interested in joining the Attorney-Generalâ€™s Chambers.  Where and how do I apply for a job? ', 'I have a dispute with my neighbor as there is loud music playing from his house all night.  Can I ask the Attorney-General to take action against him on my behalf?', 'I run a construction company and have participated in a tender exercise to secure a contract with the Government.  The tender exercise has closed.  Can I now negotiate with the Government on the contractual terms and the price?', 'If I have a legal problem, can AGC advise me?', 'Must all representations on behalf of accused persons be submitted to AGC through a hard copy letter?', 'Overseas offence', 'Personal Injury', 'Private Prosecutor ', 'What about the Court of Appeal?', 'What are some of the pre-divorce considerations? ', 'What are the advantages of the new family court system compared to the previous one?', 'What cases are heard by the Family Division of the High Court?', 'What cases are heard by the Youth Courts?', 'What is co-parenting?', 'What is envisaged under a Judge-led approach in managing cases?', 'What is meant by differentiated case management?', 'What is mediation? ', 'What is the Family Court Friend Scheme?', 'What is the difference between an Assistant Public Prosecutor (APP) and a Deputy Public Prosecutor (DPP)?', 'What is the difference between separation and divorce? ', 'What is the structure for the Family Justice Courts?', 'When was IAD established?', 'Where can I find information on legislation and reproduction of legislation? ', 'Where can I get counselling and other forms of support? ', 'Where can I get free legal advice', 'Why were the Family Justice Courts set up?', 'Will the new Family Justice Courts be at one physical location such that people needing help can approach this one-stop centre?', 'defence counsel Urgent Representation', 'goodbye', 'greeting', 'interview with prosecutor', 'legal officers in CJD', 'thanks']\n",
      "299 unique stemmed words [\"'s\", '(', ')', ',', '.', '@', 'a', 'about', 'acceiv', 'accid', 'accus', 'acquir', 'act', 'addit', 'adjust', 'adv', 'aft', 'against', 'agc', 'agc.gov.sg', 'agc_crime_representations', 'agcâ€™s', 'al', 'allow', 'also', 'am', 'an', 'and', 'anoth', 'anyon', 'ap', 'apply', 'approach', 'ar', 'as', 'ask', 'assess', 'assist', 'at', 'attorney', 'attorney-general', 'attorney-generalâ€™s', 'be', 'bef', 'behalf', 'bet', 'between', 'born', 'by', 'bye', 'can', 'car', 'cas', 'cent', 'chamb', 'child', 'child-centr', 'cjd', 'claim', 'clar', 'clos', 'clust', 'co-parenting', 'commit', 'comp', 'company', 'conduc', 'consid', 'construct', 'contract', 'contribut', 'cop', 'cost', 'counsel', 'court', 'crim', 'crimin', 'dam', 'day', 'deal', 'dealt', 'decid', 'deep', 'def', 'degr', 'deputy', 'design', 'diff', 'differenty', 'direct', 'disput', 'divid', 'divorc', 'do', 'docu', 'doe', 'dpp', 'dssa', 'dur', 'duty', 'each', 'elig', 'employ', 'env', 'est', 'ev', 'every', 'evid', 'exclud', 'exerc', 'expect', 'ext', 'fac', 'fact', 'famy', 'find', 'for', 'form', 'fre', 'friend', 'from', 'ful', 'gen', 'get', 'giv', 'going', 'good', 'goodby', 'govern', 'had', 'handl', 'hard', 'has', 'hav', 'he', 'heard', 'hello', 'help', 'hi', 'high', 'him', 'his', 'holiday', 'hous', 'how', 'i', 'iad', 'if', 'immedy', 'in', 'inform', 'injury', 'ins', 'inst', 'institut', 'interest', 'interpret', 'interview', 'intimid', 'investig', 'involv', 'is', 'issu', 'it', 'job', 'join', 'judge-led', 'just', 'lat', 'lawy', 'leg', 'legisl', 'let', 'lik', 'loc', 'loud', 'mad', 'maint', 'mak', 'man', 'may', 'me', 'meant', 'medy', 'meet', 'mem', 'monday', 'morn', 'mov', 'mus', 'must', 'my', 'necess', 'nee', 'neglig', 'negoty', 'neighb', 'new', 'night', 'no', 'not', 'now', 'of', 'off', 'on', 'one-stop', 'or', 'ord', 'oth', 'out', 'oversea', 'own', 'particip', 'peopl', 'person', 'pertain', 'phys', 'play', 'pre-divorc', 'pres', 'prevy', 'pric', 'priv', 'problem', 'program', 'prosecut', 'publ', 'quest', 'rel', 'relev', 'repres', 'reproduc', 'requir', 'respons', 'rol', 'room', 'rost', 'routin', 'run', 'saturday', 'scheme', 'sec', 'see', 'sent', 'seny', 'sep', 'serv', 'set', 'settl', 'sev', 'should', 'singap', 'som', 'spec', 'stat', 'structure', 'submit', 'such', 'support', 'system', 'tak', 'tend', 'term', 'thank', 'that', 'the', 'their', 'ther', 'thes', 'thi', 'through', 'to', 'transpir', 'tri', 'und', 'understand', 'up', 'urg', 'us', 'victim', 'viol', 'volunt', 'was', 'wel', 'wer', 'what', 'when', 'wher', 'wheth', 'which', 'who', 'why', 'wil', 'wit', 'with', 'witness/victim', 'wor', 'work', 'you']\n"
     ]
    }
   ],
   "source": [
    "words = []\n",
    "classes = []\n",
    "documents = []\n",
    "ignore_words = ['?']\n",
    "# loop through each sentence in our intents patterns\n",
    "for intent in intents['intents']:\n",
    "    for pattern in intent['patterns']:\n",
    "        # tokenize each word in the sentence\n",
    "        w = nltk.word_tokenize(pattern)\n",
    "        # add to our words list\n",
    "        words.extend(w)\n",
    "        # add to documents in our corpus\n",
    "        documents.append((w, intent['tag']))\n",
    "        # add to our classes list\n",
    "        if intent['tag'] not in classes:\n",
    "            classes.append(intent['tag'])\n",
    "\n",
    "# stem and lower each word and remove duplicates\n",
    "words = [stemmer.stem(w.lower()) for w in words if w not in ignore_words]\n",
    "words = sorted(list(set(words)))\n",
    "\n",
    "# remove duplicates\n",
    "classes = sorted(list(set(classes)))\n",
    "\n",
    "print (len(documents), \"documents\")\n",
    "print (len(classes), \"classes\", classes)\n",
    "print (len(words), \"unique stemmed words\", words)"
   ]
  },
  {
   "cell_type": "code",
   "execution_count": 5,
   "metadata": {},
   "outputs": [],
   "source": [
    "# create our training data\n",
    "training = []\n",
    "output = []\n",
    "# create an empty array for our output\n",
    "output_empty = [0] * len(classes)\n",
    "\n",
    "# training set, bag of words for each sentence\n",
    "for doc in documents:\n",
    "    # initialize our bag of words\n",
    "    bag = []\n",
    "    # list of tokenized words for the pattern\n",
    "    pattern_words = doc[0]\n",
    "    # stem each word\n",
    "    pattern_words = [stemmer.stem(word.lower()) for word in pattern_words]\n",
    "    # create our bag of words array\n",
    "    for w in words:\n",
    "        bag.append(1) if w in pattern_words else bag.append(0)\n",
    "\n",
    "    # output is a '0' for each tag and '1' for current tag\n",
    "    output_row = list(output_empty)\n",
    "    output_row[classes.index(doc[1])] = 1\n",
    "\n",
    "    training.append([bag, output_row])\n",
    "\n",
    "# shuffle our features and turn into np.array\n",
    "random.shuffle(training)\n",
    "training = np.array(training)\n",
    "\n",
    "# create train and test lists\n",
    "train_x = list(training[:,0])\n",
    "train_y = list(training[:,1])"
   ]
  },
  {
   "cell_type": "code",
   "execution_count": 11,
   "metadata": {},
   "outputs": [
    {
     "name": "stdout",
     "output_type": "stream",
     "text": [
      "Training Step: 9850  | total loss: \u001b[1m\u001b[32m0.13982\u001b[0m\u001b[0m | time: 0.012s\n",
      "\u001b[2K\r",
      "| Adam | epoch: 1095 | loss: 0.13982 - acc: 0.9901 -- iter: 32/68\n"
     ]
    }
   ],
   "source": [
    "# reset underlying graph data\n",
    "tf.reset_default_graph()\n",
    "# Build neural network\n",
    "net = tflearn.input_data(shape=[None, len(train_x[0])])\n",
    "net = tflearn.fully_connected(net, 8)\n",
    "net = tflearn.fully_connected(net, 8)\n",
    "net = tflearn.fully_connected(net, len(train_y[0]), activation='softmax')\n",
    "net = tflearn.regression(net)\n",
    "\n",
    "# Define model and setup tensorboard\n",
    "model = tflearn.DNN(net, tensorboard_dir='tflearn_logs')\n",
    "# Start training (apply gradient descent algorithm)\n",
    "model.fit(train_x, train_y, n_epoch=1101, batch_size=8, show_metric=True)\n",
    "model.save('model.tflearn')"
   ]
  },
  {
   "cell_type": "code",
   "execution_count": 12,
   "metadata": {},
   "outputs": [],
   "source": [
    "def clean_up_sentence(sentence):\n",
    "    # tokenize the pattern\n",
    "    sentence_words = nltk.word_tokenize(sentence)\n",
    "    # stem each word\n",
    "    sentence_words = [stemmer.stem(word.lower()) for word in sentence_words]\n",
    "    return sentence_words\n",
    "\n",
    "# return bag of words array: 0 or 1 for each word in the bag that exists in the sentence\n",
    "def bow(sentence, words, show_details=False):\n",
    "    # tokenize the pattern\n",
    "    sentence_words = clean_up_sentence(sentence)\n",
    "    # bag of words\n",
    "    bag = [0]*len(words)  \n",
    "    for s in sentence_words:\n",
    "        for i,w in enumerate(words):\n",
    "            if w == s: \n",
    "                bag[i] = 1\n",
    "                if show_details:\n",
    "                    print (\"found in bag: %s\" % w)\n",
    "\n",
    "    return(np.array(bag))"
   ]
  },
  {
   "cell_type": "code",
   "execution_count": 8,
   "metadata": {},
   "outputs": [
    {
     "name": "stdout",
     "output_type": "stream",
     "text": [
      "[0 0 0 0 0 0 0 0 0 0 0 0 0 0 0 0 0 0 0 0 0 0 0 0 0 0 0 0 0 0 0 0 0 0 0 0 0\n",
      " 0 0 0 0 0 0 0 0 0 0 0 0 0 0 0 0 0 0 0 0 0 0 0 0 0 0 0 0 0 0 0 0 0 0 0 0 0\n",
      " 0 0 0 0 0 0 0 0 0 0 0 0 0 0 0 0 0 0 0 0 0 0 0 0 0 0 0 0 0 0 0 0 0 0 0 0 0\n",
      " 0 0 0 0 0 0 0 0 0 0 0 0 0 0 0 0 0 0 0 0 0 0 0 0 0 0 0 0 0 0 0 0 0 0 0 0 0\n",
      " 0 0 0 0 0 0 0 0 0 0 0 0 0 1 0 0 0 0 0 0 0 0 0 0 0 0 0 0 0 0 0 0 0 0 0 0 0\n",
      " 0 0 0 0 0 0 0 0 0 0 0 0 0 0 0 0 0 0 0 0 0 0 0 0 0 0 0 0 0 0 0 0 0 0 0 0 0\n",
      " 0 0 0 0 0 0 0 0 0 0 0 0 0 0 0 0 0 0 0 0 0 0 0 0 0 0 0 0 0 0 0 0 0 0 0 0 0\n",
      " 0 0 0 0 0 0 0 0 0 0 0 0 0 0 0 0 0 0 0 0 0 0 0 0 0 0 0 0 0 0 0 0 0 0 0 0 0\n",
      " 0 0 0]\n",
      "['', 'Are support programmes and counselling offered for free at DSSA? ', 'Criminal Case Management System (CCMS)', 'How can I get help on child maintenance issues? ', 'How do I get help when I am faced with family violence? ', 'How to institute a Private Prosecutor', 'I am interested in joining the Attorney-Generalâ€™s Chambers.  Where and how do I apply for a job? ', 'I have a dispute with my neighbor as there is loud music playing from his house all night.  Can I ask the Attorney-General to take action against him on my behalf?', 'I run a construction company and have participated in a tender exercise to secure a contract with the Government.  The tender exercise has closed.  Can I now negotiate with the Government on the contractual terms and the price?', 'If I have a legal problem, can AGC advise me?', 'Must all representations on behalf of accused persons be submitted to AGC through a hard copy letter?', 'Overseas offence', 'Personal Injury', 'Private Prosecutor ', 'What about the Court of Appeal?', 'What are some of the pre-divorce considerations? ', 'What are the advantages of the new family court system compared to the previous one?', 'What cases are heard by the Family Division of the High Court?', 'What cases are heard by the Youth Courts?', 'What is co-parenting?', 'What is envisaged under a Judge-led approach in managing cases?', 'What is meant by differentiated case management?', 'What is mediation? ', 'What is the Family Court Friend Scheme?', 'What is the difference between an Assistant Public Prosecutor (APP) and a Deputy Public Prosecutor (DPP)?', 'What is the difference between separation and divorce? ', 'What is the structure for the Family Justice Courts?', 'When was IAD established?', 'Where can I find information on legislation and reproduction of legislation? ', 'Where can I get counselling and other forms of support? ', 'Where can I get free legal advice', 'Why were the Family Justice Courts set up?', 'Will the new Family Justice Courts be at one physical location such that people needing help can approach this one-stop centre?', 'defence counsel Urgent Representation', 'goodbye', 'greeting', 'interview with prosecutor', 'legal officers in CJD', 'thanks']\n"
     ]
    }
   ],
   "source": [
    "p = bow(\"is your shop open today?\", words)\n",
    "print (p)\n",
    "print (classes)"
   ]
  },
  {
   "cell_type": "code",
   "execution_count": 13,
   "metadata": {},
   "outputs": [
    {
     "name": "stdout",
     "output_type": "stream",
     "text": [
      "[[4.0830921e-02 1.2790265e-05 1.7791596e-07 4.1618546e-06 7.0823221e-06\n",
      "  2.2038825e-04 3.9848641e-07 1.3713448e-07 1.9438225e-07 7.0238668e-05\n",
      "  5.7561090e-03 9.4372714e-05 1.6827431e-02 3.6592305e-06 4.8837901e-06\n",
      "  9.4757081e-05 1.3143020e-05 5.6099348e-06 5.5002799e-04 3.9929334e-02\n",
      "  6.2666484e-04 2.2073302e-03 1.0157297e-02 1.0784854e-03 3.1065443e-04\n",
      "  1.1461031e-05 9.0962844e-03 8.4640305e-06 2.4754352e-06 1.4258397e-07\n",
      "  1.5093558e-07 9.3412682e-06 1.4997281e-04 1.0370709e-03 1.6282471e-01\n",
      "  3.2826111e-01 3.9085022e-05 5.1192689e-04 3.7924150e-01]]\n"
     ]
    }
   ],
   "source": [
    "print(model.predict([p]))\n"
   ]
  },
  {
   "cell_type": "code",
   "execution_count": 14,
   "metadata": {},
   "outputs": [],
   "source": [
    "# save all of our data structures\n",
    "import pickle\n",
    "pickle.dump( {'words':words, 'classes':classes, 'train_x':train_x, 'train_y':train_y}, open( \"training_data\", \"wb\" ) )"
   ]
  },
  {
   "cell_type": "code",
   "execution_count": 16,
   "metadata": {},
   "outputs": [],
   "source": []
  },
  {
   "cell_type": "code",
   "execution_count": 17,
   "metadata": {},
   "outputs": [],
   "source": []
  },
  {
   "cell_type": "code",
   "execution_count": null,
   "metadata": {},
   "outputs": [],
   "source": []
  },
  {
   "cell_type": "code",
   "execution_count": null,
   "metadata": {},
   "outputs": [],
   "source": []
  },
  {
   "cell_type": "code",
   "execution_count": null,
   "metadata": {},
   "outputs": [],
   "source": []
  },
  {
   "cell_type": "code",
   "execution_count": null,
   "metadata": {},
   "outputs": [],
   "source": []
  }
 ],
 "metadata": {
  "kernelspec": {
   "display_name": "Python 3",
   "language": "python",
   "name": "python3"
  },
  "language_info": {
   "codemirror_mode": {
    "name": "ipython",
    "version": 3
   },
   "file_extension": ".py",
   "mimetype": "text/x-python",
   "name": "python",
   "nbconvert_exporter": "python",
   "pygments_lexer": "ipython3",
   "version": "3.5.6"
  }
 },
 "nbformat": 4,
 "nbformat_minor": 2
}
